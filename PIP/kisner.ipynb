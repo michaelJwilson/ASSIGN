{
 "cells": [
  {
   "cell_type": "markdown",
   "metadata": {},
   "source": [
    "# PIP bitarray Tutorial\n",
    "\n",
    "Fiber assign implementation of \n",
    "* https://arxiv.org/abs/1703.02070\n",
    "* https://arxiv.org/abs/1809.07355\n",
    "\n",
    "\n",
    "Based on the slides availabe here:\n",
    "\n",
    "https://www.dropbox.com/s/zhw3m084f1w5cld/tskisner_fiberassign_20190129.pdf?dl=0\n",
    "\n",
    "\n",
    "To create the input files, see: \n",
    "\n",
    "https://github.com/desihub/tutorials/blob/master/FiberAssignMocks.ipynb\n",
    "\n",
    "Environment:\n",
    "* 18.12 \n",
    "* module swap fiberassign/1.0.0"
   ]
  },
  {
   "cell_type": "code",
   "execution_count": 1,
   "metadata": {},
   "outputs": [],
   "source": [
    "import os, sys, copy, subprocess"
   ]
  },
  {
   "cell_type": "code",
   "execution_count": 2,
   "metadata": {},
   "outputs": [],
   "source": [
    "import pylab                as     pl"
   ]
  },
  {
   "cell_type": "code",
   "execution_count": 3,
   "metadata": {},
   "outputs": [],
   "source": [
    "import numpy                as     np"
   ]
  },
  {
   "cell_type": "code",
   "execution_count": 4,
   "metadata": {},
   "outputs": [],
   "source": [
    "import matplotlib.pyplot    as     plt"
   ]
  },
  {
   "cell_type": "code",
   "execution_count": 49,
   "metadata": {},
   "outputs": [],
   "source": [
    "##  pip install --user bitarray\n",
    "from   bitarray             import bitarray"
   ]
  },
  {
   "cell_type": "code",
   "execution_count": 6,
   "metadata": {},
   "outputs": [],
   "source": [
    "from   fiberassign.hardware import load_hardware"
   ]
  },
  {
   "cell_type": "code",
   "execution_count": 7,
   "metadata": {},
   "outputs": [],
   "source": [
    "from   fiberassign.tiles    import load_tiles"
   ]
  },
  {
   "cell_type": "code",
   "execution_count": 8,
   "metadata": {},
   "outputs": [],
   "source": [
    "from   fiberassign.targets  import (TARGET_TYPE_SCIENCE,\n",
    "                                    TARGET_TYPE_SKY, \n",
    "                                    TARGET_TYPE_STANDARD,\n",
    "                                    Targets,\n",
    "                                    TargetsAvailable,\n",
    "                                    TargetTree,\n",
    "                                    FibersAvailable,\n",
    "                                    load_target_file) "
   ]
  },
  {
   "cell_type": "code",
   "execution_count": 58,
   "metadata": {},
   "outputs": [],
   "source": [
    "from fiberassign.assign   import   Assignment\n",
    "%matplotlib inline"
   ]
  },
  {
   "cell_type": "code",
   "execution_count": 57,
   "metadata": {},
   "outputs": [],
   "source": [
    "##  Not available on NERSC Head node \n",
    "##  from mpi4py           import MPI"
   ]
  },
  {
   "cell_type": "code",
   "execution_count": 12,
   "metadata": {},
   "outputs": [],
   "source": [
    "SCRATCH       = os.environ['SCRATCH']\n",
    "root          = '/global/cscratch1/sd/mjwilson' + '/desi/test/fiberassign_mock/'"
   ]
  },
  {
   "cell_type": "code",
   "execution_count": 13,
   "metadata": {},
   "outputs": [],
   "source": [
    "#  Read hardward properties;  See run_assign_init of https://github.com/desihub/fiberassign/blob/master/py/fiberassign/scripts/assign.py\n",
    "hw            = load_hardware()"
   ]
  },
  {
   "cell_type": "code",
   "execution_count": 14,
   "metadata": {},
   "outputs": [],
   "source": [
    "fibers        = np.array(hw.fiber_id)\n",
    "nfiber        = len(fibers)"
   ]
  },
  {
   "cell_type": "code",
   "execution_count": 15,
   "metadata": {},
   "outputs": [],
   "source": [
    "#  Read the Jaime's mock fiberassign example footprint.\n",
    "tiles         = load_tiles(root + 'tiles.fits')"
   ]
  },
  {
   "cell_type": "code",
   "execution_count": 16,
   "metadata": {},
   "outputs": [],
   "source": [
    "ntiles        = len(tiles.id)"
   ]
  },
  {
   "cell_type": "code",
   "execution_count": 17,
   "metadata": {},
   "outputs": [
    {
     "data": {
      "text/plain": [
       "[543,\n",
       " 544,\n",
       " 1587,\n",
       " 6305,\n",
       " 6306,\n",
       " 7349,\n",
       " 12065,\n",
       " 12067,\n",
       " 13111,\n",
       " 17827,\n",
       " 17829,\n",
       " 18873,\n",
       " 23589,\n",
       " 24633,\n",
       " 24635]"
      ]
     },
     "execution_count": 17,
     "metadata": {},
     "output_type": "execute_result"
    }
   ],
   "source": [
    "tiles.id"
   ]
  },
  {
   "cell_type": "code",
   "execution_count": 18,
   "metadata": {},
   "outputs": [],
   "source": [
    "# Target files.  Get these from command line arguments, etc.\n",
    "target_files  = ['mtl.fits', 'sky.fits', 'standards-dark.fits']"
   ]
  },
  {
   "cell_type": "code",
   "execution_count": 19,
   "metadata": {},
   "outputs": [],
   "source": [
    "# Fiber assign realizations to do -- read these from a file or some other source. \n",
    "nrealizations = np.int(1)\n",
    "realizations  = np.arange(nrealizations, dtype=np.int32)"
   ]
  },
  {
   "cell_type": "code",
   "execution_count": 20,
   "metadata": {},
   "outputs": [],
   "source": [
    "##  How many MPI processes do we have and what is our rank?\n",
    "##  mpi_procs = MPI.COMM_WORLD.size\n",
    "##  mpi_rank  = MPI.COMM_WORLD.rank"
   ]
  },
  {
   "cell_type": "code",
   "execution_count": 43,
   "metadata": {},
   "outputs": [],
   "source": [
    "# Load Target data.  There may be some contention from all MPI processes \n",
    "# reading at once, but this is only done once at the start of the job. \n",
    "tgs           = Targets()\n",
    " \n",
    "for tgfile in target_files:\n",
    "    load_target_file(tgs, root + tgfile)"
   ]
  },
  {
   "cell_type": "code",
   "execution_count": 23,
   "metadata": {},
   "outputs": [],
   "source": [
    "##  Create a hierarchical triangle mesh lookup of the targets positions.\n",
    "tree      = TargetTree(tgs) "
   ]
  },
  {
   "cell_type": "code",
   "execution_count": 24,
   "metadata": {},
   "outputs": [],
   "source": [
    "##  What iterations should this MPI rank compute? \n",
    "##  rank_realizations = np.array_split(realizations, mpi_procs)[mpi_rank]"
   ]
  },
  {
   "cell_type": "code",
   "execution_count": 25,
   "metadata": {},
   "outputs": [],
   "source": [
    "##  Data structure of targets available to each fiber. \n",
    "tgsavail  = TargetsAvailable(hw, tgs, tiles, tree)"
   ]
  },
  {
   "cell_type": "code",
   "execution_count": 26,
   "metadata": {},
   "outputs": [
    {
     "name": "stdout",
     "output_type": "stream",
     "text": [
      "543 42694\n",
      "544 44055\n",
      "1587 42999\n",
      "6305 43452\n",
      "6306 43072\n",
      "7349 41618\n",
      "12065 43259\n",
      "12067 43662\n",
      "13111 42480\n",
      "17827 42352\n",
      "17829 43608\n",
      "18873 43049\n",
      "23589 37008\n",
      "24633 38245\n",
      "24635 38075\n"
     ]
    }
   ],
   "source": [
    "##  Find the number of unique targets, split by tile. \n",
    "untarget  = np.zeros(ntiles, dtype=np.int)\n",
    "\n",
    "for i, tile in enumerate(tiles.id):\n",
    "  ##  Returns the targets available for a given tile.  \n",
    "  ##  Fiber ID as the key and the value is an array of \n",
    "  ##  target IDs available to the fiber.  \n",
    "  tgsavail_tile  = tgsavail.tile_data(tile)\n",
    "    \n",
    "  for x in tgsavail_tile.values():    \n",
    "    untarget[i] += len(x)    \n",
    "    \n",
    "    ##  assert np.all(np.diff(x) > 0)\n",
    "    \n",
    "  print(tile, untarget[i])"
   ]
  },
  {
   "cell_type": "code",
   "execution_count": 56,
   "metadata": {},
   "outputs": [
    {
     "name": "stdout",
     "output_type": "stream",
     "text": [
      "Total number of reachable targets is 629628\n"
     ]
    }
   ],
   "source": [
    "print('Total number of reachable targets is %d' % untarget.sum())"
   ]
  },
  {
   "cell_type": "code",
   "execution_count": 46,
   "metadata": {},
   "outputs": [
    {
     "data": {
      "text/plain": [
       "['__class__',\n",
       " '__delattr__',\n",
       " '__dir__',\n",
       " '__doc__',\n",
       " '__eq__',\n",
       " '__format__',\n",
       " '__ge__',\n",
       " '__getattribute__',\n",
       " '__gt__',\n",
       " '__hash__',\n",
       " '__init__',\n",
       " '__init_subclass__',\n",
       " '__le__',\n",
       " '__lt__',\n",
       " '__module__',\n",
       " '__ne__',\n",
       " '__new__',\n",
       " '__reduce__',\n",
       " '__reduce_ex__',\n",
       " '__repr__',\n",
       " '__setattr__',\n",
       " '__sizeof__',\n",
       " '__str__',\n",
       " '__subclasshook__',\n",
       " 'append',\n",
       " 'get',\n",
       " 'ids']"
      ]
     },
     "execution_count": 46,
     "metadata": {},
     "output_type": "execute_result"
    }
   ],
   "source": [
    "##  Available attributes for targets. \n",
    "dir(tgs)"
   ]
  },
  {
   "cell_type": "code",
   "execution_count": 63,
   "metadata": {},
   "outputs": [],
   "source": [
    "##  Every MPI rank works on its own realizations. \n",
    "##  We run this job with one MPI rank per node and \n",
    "##  then use OpenMP and multiprocessing within a node.\n",
    "result = []\n",
    "\n",
    "for realization in realizations:\n",
    "  ##  --  To do:  How to reseed sub-priorities for this realization.      \n",
    "  ##\n",
    "  ##  for id in tgs.ids:\n",
    "  ##    props = tgs.get(id)\n",
    "  ##    props.subpriority\n",
    "\n",
    "  ##  Dithering our tile RA/DEC here.    \n",
    "  ##  tiles = dither_tiles(nominal tiles, seed)\n",
    "     \n",
    "  # Compute the targets available to each fiber for each tile. \n",
    "  tgsavail  = TargetsAvailable(hw, tgs, tiles, tree)\n",
    "   \n",
    "  # Compute the fibers on all tiles available for each target. \n",
    "  favail    = FibersAvailable(tgsavail)\n",
    "\n",
    "  ##  Create assignment object.\n",
    "  asgn      = Assignment(tgs, tgsavail, favail)\n",
    "\n",
    "  ##  First-pass assignment of science targets. \n",
    "  asgn.assign_unused(TARGET_TYPE_SCIENCE)\n",
    "\n",
    "  ##  Redistribute science targets across available petals.\n",
    "  asgn.redistribute_science()\n",
    "\n",
    "  ##  Assign standards, 10 per petal. \n",
    "  asgn.assign_unused(TARGET_TYPE_STANDARD, 10)\n",
    "\n",
    "  ##  Force assignment if needed\n",
    "  asgn.assign_force(TARGET_TYPE_STANDARD, 10)\n",
    "\n",
    "  ##  Assign sky, up to 40 per petal. \n",
    "  asgn.assign_unused(TARGET_TYPE_SKY, 40)\n",
    "  asgn.assign_force(TARGET_TYPE_SKY, 40)\n",
    "    \n",
    "  ##  If there are any unassigned fibers, try to place them somewhere. \n",
    "  asgn.assign_unused(TARGET_TYPE_SCIENCE)\n",
    "  asgn.assign_unused(TARGET_TYPE_SKY)\n",
    "  \n",
    "  _result = bitarray()\n",
    "    \n",
    "  ##  Loop over assigned tiles and update our bit array for this realization. \n",
    "  for i, tile in enumerate(tiles.id):    \n",
    "    ##  Targets available to a fiber per tile.   \n",
    "    _tgsavail_tile  = tgsavail.tile_data(tile)    \n",
    "    \n",
    "    ##  Concatenates split-by-fiber lists and sort. \n",
    "    tgsavail_tile   = np.sort(np.concatenate(list(_tgsavail_tile.values()))) \n",
    "\n",
    "    ##  Assigned target data. \n",
    "    tdata           = asgn.tile_fiber_target(tile)\n",
    "       \n",
    "    ##  We are updating only assigned targets, line 206 of https://github.com/desihub/fiberassign/blob/master/py/fiberassign/assign.py#L214\n",
    "    tgids           = np.array(sorted([y for x, y in tdata.items()]), dtype=np.int64)\n",
    "\n",
    "    ##  Find where in bitarrary that assigned id lives.   \n",
    "    indices         = np.searchsorted(tgsavail_tile, tgids)\n",
    "    \n",
    "    ##  Binary array. \n",
    "    is_in           = np.zeros(untarget[i], dtype=np.int32)\n",
    "    is_in[indices]  = 1        \n",
    "    \n",
    "    is_in           = ''.join(x for x in is_in.astype('str'))    \n",
    "\n",
    "    ##  Binary of all available targets: sorted first by tiles, then by target_id.  \n",
    "    _result.extend(is_in)\n",
    " \n",
    "  result.append(_result)"
   ]
  },
  {
   "cell_type": "code",
   "execution_count": null,
   "metadata": {},
   "outputs": [],
   "source": [
    "##  print(result)"
   ]
  },
  {
   "cell_type": "code",
   "execution_count": 61,
   "metadata": {},
   "outputs": [],
   "source": [
    "##  Free the tree\n",
    "##  del tree"
   ]
  },
  {
   "cell_type": "code",
   "execution_count": 60,
   "metadata": {},
   "outputs": [
    {
     "data": {
      "text/plain": [
       "Text(0,0.5,'DEC')"
      ]
     },
     "execution_count": 60,
     "metadata": {},
     "output_type": "execute_result"
    },
    {
     "data": {
      "image/png": "[encoded data removed]",
      "text/plain": [
       "<matplotlib.figure.Figure at 0x2aaae946d278>"
      ]
     },
     "metadata": {},
     "output_type": "display_data"
    }
   ],
   "source": [
    "## Plot the last tile. \n",
    "for indx, tg in enumerate(tgids):\n",
    "  props = tgs.get(tg)\n",
    "\n",
    "  plt.scatter(props.ra, props.dec, s=0.2)\n",
    "\n",
    "plt.axis('equal')\n",
    "\n",
    "plt.xlabel('RA')\n",
    "plt.ylabel('DEC')"
   ]
  },
  {
   "cell_type": "code",
   "execution_count": null,
   "metadata": {},
   "outputs": [],
   "source": []
  }
 ],
 "metadata": {
  "kernelspec": {
   "display_name": "DESI 18.12",
   "language": "python",
   "name": "desi-18.12"
  },
  "language_info": {
   "codemirror_mode": {
    "name": "ipython",
    "version": 3
   },
   "file_extension": ".py",
   "mimetype": "text/x-python",
   "name": "python",
   "nbconvert_exporter": "python",
   "pygments_lexer": "ipython3",
   "version": "3.6.6"
  }
 },
 "nbformat": 4,
 "nbformat_minor": 2
}
